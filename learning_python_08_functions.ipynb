{
 "cells": [
  {
   "cell_type": "markdown",
   "id": "a43e83ab",
   "metadata": {},
   "source": [
    "# Learning Python Data Analysis\n",
    "\n",
    "## Creating Functions\n",
    "\n",
    "Setup: https://swcarpentry.github.io/python-novice-inflammation/instructor/index.html#setup\n",
    "\n",
    "Instruction: https://swcarpentry.github.io/python-novice-inflammation/instructor/08-func.html\n",
    "\n",
    "Objectives:\n",
    "* Define a function that takes parameters.\n",
    "* Return a value from a function.\n",
    "* Test and debug a function.\n",
    "* Set default values for function parameters.\n",
    "* Explain why we should divide programs into small, single-purpose functions."
   ]
  },
  {
   "cell_type": "code",
   "execution_count": null,
   "id": "53d00fba",
   "metadata": {},
   "outputs": [],
   "source": [
    "# Functions help us reuse code\n",
    "\n",
    "# Let's start with some code that converts Fahrenheit to Celsius\n",
    "\n",
    "fahrenheit_val = 99\n",
    "celsius_val = ((fahrenheit_val - 32) * (5/9))"
   ]
  },
  {
   "cell_type": "code",
   "execution_count": null,
   "id": "446f0667",
   "metadata": {},
   "outputs": [],
   "source": [
    "# This function does the same convertion but it can be reused\n",
    "\n",
    "def fahr_to_celsius(temp):\n",
    "    return ((temp - 32) * (5/9))\n",
    "\n",
    "celsius_val = fahr_to_celsius(fahrenheit_val)"
   ]
  },
  {
   "cell_type": "code",
   "execution_count": null,
   "id": "21fd6796",
   "metadata": {},
   "outputs": [],
   "source": [
    "# Using our function and print the results\n",
    "\n",
    "print('freezing point of water:', fahr_to_celsius(32), 'C')\n",
    "print('boiling point of water:', fahr_to_celsius(212), 'C')"
   ]
  },
  {
   "cell_type": "code",
   "execution_count": null,
   "id": "d6bc449f",
   "metadata": {},
   "outputs": [],
   "source": [
    "# Another function for converting Celsius into Kelvin\n",
    "\n",
    "def celsius_to_kelvin(temp_c):\n",
    "    return temp_c + 273.15\n",
    "\n",
    "print('freezing point of water in Kelvin:', celsius_to_kelvin(0))"
   ]
  },
  {
   "cell_type": "code",
   "execution_count": null,
   "id": "ab00d077",
   "metadata": {},
   "outputs": [],
   "source": [
    "# What about converting Fahrenheit to Kelvin?\n",
    "\n",
    "def fahr_to_kelvin(temp_f):\n",
    "    temp_c = fahr_to_celsius(temp_f)\n",
    "    temp_k = celsius_to_kelvin(temp_c)\n",
    "    return temp_k\n",
    "\n",
    "print('boiling point of water in Kelvin:', fahr_to_kelvin(212.0))"
   ]
  },
  {
   "cell_type": "markdown",
   "id": "86d73c00",
   "metadata": {},
   "source": [
    "## Variable Scope\n",
    "In composing our temperature conversion functions, we created variables inside of those functions, temp, temp_c, temp_f, and temp_k. \n",
    "\n",
    "We refer to these variables as 'local variables' because they no longer exist once the function is done executing. If we try to access their values outside of the function, we will encounter an error:\n",
    "\n",
    "```\n",
    "print('Again, temperature in Kelvin was:', temp_k)\n",
    "```"
   ]
  },
  {
   "cell_type": "code",
   "execution_count": null,
   "id": "bd055000",
   "metadata": {},
   "outputs": [],
   "source": [
    "# Inside a function, one can read the value of global variables, e.g:\n",
    "\n",
    "def print_temperatures():\n",
    "    print('temperature in Fahrenheit was:', temp_fahr)\n",
    "    print('temperature in Kelvin was:', temp_kelvin)\n",
    "\n",
    "temp_fahr = 212.0\n",
    "temp_kelvin = fahr_to_kelvin(temp_fahr)\n",
    "\n",
    "print_temperatures()"
   ]
  },
  {
   "cell_type": "code",
   "execution_count": null,
   "id": "04e0747c",
   "metadata": {},
   "outputs": [],
   "source": [
    "# Generate plots using a function\n",
    "\n",
    "def visualize(filename):\n",
    "\n",
    "    data = numpy.loadtxt(fname=filename, delimiter=',')\n",
    "\n",
    "    fig = matplotlib.pyplot.figure(figsize=(10.0, 3.0))\n",
    "\n",
    "    axes1 = fig.add_subplot(1, 3, 1)\n",
    "    axes2 = fig.add_subplot(1, 3, 2)\n",
    "    axes3 = fig.add_subplot(1, 3, 3)\n",
    "\n",
    "    axes1.set_ylabel('average')\n",
    "    axes1.plot(numpy.mean(data, axis=0))\n",
    "\n",
    "    axes2.set_ylabel('max')\n",
    "    axes2.plot(numpy.amax(data, axis=0))\n",
    "\n",
    "    axes3.set_ylabel('min')\n",
    "    axes3.plot(numpy.amin(data, axis=0))\n",
    "\n",
    "    fig.tight_layout()\n",
    "    matplotlib.pyplot.show()"
   ]
  },
  {
   "cell_type": "code",
   "execution_count": null,
   "id": "704af018",
   "metadata": {},
   "outputs": [],
   "source": [
    "# Detect problems in our patient data using a function\n",
    "\n",
    "def detect_problems(filename):\n",
    "\n",
    "    data = numpy.loadtxt(fname=filename, delimiter=',')\n",
    "\n",
    "    if numpy.amax(data, axis=0)[0] == 0 and numpy.amax(data, axis=0)[20] == 20:\n",
    "        print('Suspicious looking maxima!')\n",
    "    elif numpy.sum(numpy.amin(data, axis=0)) == 0:\n",
    "        print('Minima add up to zero!')\n",
    "    else:\n",
    "        print('Seems OK!')"
   ]
  },
  {
   "cell_type": "markdown",
   "id": "cbe45cff",
   "metadata": {},
   "source": [
    "## Testing and Documenting\n",
    "We need to test to be sure our functions are working correctly"
   ]
  },
  {
   "cell_type": "code",
   "execution_count": null,
   "id": "ad69af20",
   "metadata": {},
   "outputs": [],
   "source": [
    "# Here's a function to offset a dataset so that it’s mean value shifts to a user-defined value:\n",
    "\n",
    "def offset_mean(data, target_mean_value):\n",
    "    return (data - numpy.mean(data)) + target_mean_value"
   ]
  },
  {
   "cell_type": "code",
   "execution_count": null,
   "id": "b9eb635b",
   "metadata": {},
   "outputs": [],
   "source": [
    "# Let's test the above function using NumPy to create a matrix of 0’s and then offset its values to have a mean value of 3\n",
    "\n",
    "import numpy\n",
    "z = numpy.zeros((2, 2))\n",
    "print(offset_mean(z, 3))"
   ]
  },
  {
   "cell_type": "code",
   "execution_count": null,
   "id": "743eabaf",
   "metadata": {},
   "outputs": [],
   "source": [
    "# Let's now test this function using 'real' data\n",
    "\n",
    "data = numpy.loadtxt(fname='data/inflammation-01.csv', delimiter=',')\n",
    "print(offset_mean(data, 0))"
   ]
  },
  {
   "cell_type": "code",
   "execution_count": null,
   "id": "44321623",
   "metadata": {},
   "outputs": [],
   "source": [
    "# A few more tests we can run for reassurance:\n",
    "\n",
    "print('original min, mean, and max are:', numpy.amin(data), numpy.mean(data), numpy.amax(data))\n",
    "offset_data = offset_mean(data, 0)\n",
    "print('min, mean, and max of offset data are:',\n",
    "      numpy.amin(offset_data),\n",
    "      numpy.mean(offset_data),\n",
    "      numpy.amax(offset_data))"
   ]
  },
  {
   "cell_type": "code",
   "execution_count": null,
   "id": "bd7f500c",
   "metadata": {},
   "outputs": [],
   "source": [
    "# Let's test further to make sure the standard deviation hasn’t changed:\n",
    "\n",
    "print('std dev before and after:', numpy.std(data), numpy.std(offset_data))"
   ]
  },
  {
   "cell_type": "code",
   "execution_count": null,
   "id": "0623ab37",
   "metadata": {},
   "outputs": [],
   "source": [
    "# A better test for comparing values\n",
    "\n",
    "print('difference in standard deviations before and after:',\n",
    "      numpy.std(data) - numpy.std(offset_data))"
   ]
  },
  {
   "cell_type": "markdown",
   "id": "4bf762e5",
   "metadata": {},
   "source": [
    "## Commenting\n",
    "Adding comments before a function works, e.g:\n",
    "```\n",
    "# offset_mean(data, target_mean_value):\n",
    "# return a new array containing the original data with its mean offset to match the desired value.\n",
    "def offset_mean(data, target_mean_value):\n",
    "    return (data - numpy.mean(data)) + target_mean_value\n",
    "```\n",
    "\n",
    "### but..."
   ]
  },
  {
   "cell_type": "code",
   "execution_count": null,
   "id": "33924ced",
   "metadata": {},
   "outputs": [],
   "source": [
    "# This is a better way to comment:\n",
    "\n",
    "def offset_mean(data, target_mean_value):\n",
    "    '''Return a new array containing the original data\n",
    "    with its mean offset to match the desired value.'''\n",
    "    return (data - numpy.mean(data)) + target_mean_value\n",
    "\n",
    "help(offset_mean)"
   ]
  },
  {
   "cell_type": "code",
   "execution_count": null,
   "id": "f3bafb65",
   "metadata": {},
   "outputs": [],
   "source": [
    "# It's even better with an example in the comment!\n",
    "\n",
    "def offset_mean(data, target_mean_value):\n",
    "    '''\n",
    "    \n",
    "    Return a new array containing the original data\n",
    "    with its mean offset to match the desired value.\n",
    "    \n",
    "    Examples\n",
    "    --------\n",
    "    >>> offset_mean([1, 2, 3], 0)\n",
    "    array([-1.,  0.,  1.])\n",
    "    '''\n",
    "    return (data - numpy.mean(data)) + target_mean_value\n",
    "\n",
    "help(offset_mean)"
   ]
  },
  {
   "cell_type": "markdown",
   "id": "28182704",
   "metadata": {},
   "source": [
    "## Defining Defaults\n",
    "When you don't expect each paramater to be passed to a function you can assign a default value"
   ]
  },
  {
   "cell_type": "code",
   "execution_count": null,
   "id": "0ce85047",
   "metadata": {},
   "outputs": [],
   "source": [
    "# Same function as before but with a default target_mean_value\n",
    "\n",
    "def offset_mean(data, target_mean_value=0.0):\n",
    "    \"\"\"Return a new array containing the original data\n",
    "       with its mean offset to match the desired value, (0 by default).\n",
    "\n",
    "    Examples\n",
    "    --------\n",
    "    >>> offset_mean([1, 2, 3])\n",
    "    array([-1.,  0.,  1.])\n",
    "    \"\"\"\n",
    "    return (data - numpy.mean(data)) + target_mean_value"
   ]
  },
  {
   "cell_type": "code",
   "execution_count": null,
   "id": "656253a5",
   "metadata": {},
   "outputs": [],
   "source": [
    "# The example below shows how Python matches values to parameters:\n",
    "\n",
    "def display(a=1, b=2, c=3):\n",
    "    print('a:', a, 'b:', b, 'c:', c)\n",
    "\n",
    "print('no parameters:')\n",
    "display()\n",
    "print('one parameter:')\n",
    "display(55)\n",
    "print('two parameters:')\n",
    "display(55, 66)\n",
    "\n",
    "print('only setting the value of c')\n",
    "display(c=77)"
   ]
  }
 ],
 "metadata": {
  "kernelspec": {
   "display_name": "Python 3 (ipykernel)",
   "language": "python",
   "name": "python3"
  },
  "language_info": {
   "codemirror_mode": {
    "name": "ipython",
    "version": 3
   },
   "file_extension": ".py",
   "mimetype": "text/x-python",
   "name": "python",
   "nbconvert_exporter": "python",
   "pygments_lexer": "ipython3",
   "version": "3.10.14"
  }
 },
 "nbformat": 4,
 "nbformat_minor": 5
}
