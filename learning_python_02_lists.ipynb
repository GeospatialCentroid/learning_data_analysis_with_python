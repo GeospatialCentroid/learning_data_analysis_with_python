{
 "cells": [
  {
   "cell_type": "markdown",
   "id": "a43e83ab",
   "metadata": {},
   "source": [
    "# Learning Python Data Analysis\n",
    "\n",
    "## Python Storing Multiple Values in Lists\n",
    "\n",
    "Setup: https://swcarpentry.github.io/python-novice-inflammation/instructor/index.html#setup\n",
    "\n",
    "Instruction: https://swcarpentry.github.io/python-novice-inflammation/instructor/04-lists.html\n",
    "\n",
    "Objectives:\n",
    "* Explain what a list is\n",
    "* Create and index lists of simple values\n",
    "* Change the values of individual elements\n",
    "* Append values to an existing list\n",
    "* Reorder and slice list elements\n",
    "* Create and manipulate nested lists\n"
   ]
  },
  {
   "cell_type": "code",
   "execution_count": null,
   "id": "53d00fba",
   "metadata": {},
   "outputs": [],
   "source": [
    "# We create a list by putting values inside square brackets and separating the values with commas:\n",
    "\n",
    "odds = [1, 3, 5, 7]\n",
    "print('odds are:', odds)"
   ]
  },
  {
   "cell_type": "code",
   "execution_count": null,
   "id": "ee57c776",
   "metadata": {},
   "outputs": [],
   "source": [
    "# We can access elements of a list using indices (numbered positions of elements in the list). \n",
    "# These positions are numbered starting at 0. \n",
    "# The first element has an index of 0.\n",
    "\n",
    "print('first element:', odds[0])\n",
    "print('last element:', odds[3])\n",
    "print('\"-1\" element:', odds[-1])\n",
    "\n",
    "# Note: Using the index of -1 gives us the last element, and -2 is the second last, allowing us to count backwards"
   ]
  },
  {
   "cell_type": "code",
   "execution_count": null,
   "id": "e2b1e6ed",
   "metadata": {},
   "outputs": [],
   "source": [
    "# One important difference between lists and strings: we can change the values in a list, \n",
    "# but we cannot change individual characters in a string.\n",
    "# For example:\n",
    "\n",
    "names = ['Curie', 'Darwing', 'Turing']  # typo in Darwin's name\n",
    "print('names is originally:', names)\n",
    "names[1] = 'Darwin'  # correct the name\n",
    "print('final value of names:', names)"
   ]
  },
  {
   "cell_type": "code",
   "execution_count": null,
   "id": "5a351b64",
   "metadata": {},
   "outputs": [],
   "source": [
    " # Reassigment of a single character in a string doesn't work\n",
    "name 'Darwin'\n",
    "name[0] = 'd'"
   ]
  },
  {
   "cell_type": "markdown",
   "id": "e52b77e8",
   "metadata": {},
   "source": [
    "Data which can be modified in place is called mutable.\n",
    "\n",
    "Data which cannot be modified is called immutable.\n",
    "\n",
    "Lists are mutable, we can change individual elements, append new elements, or reorder the whole list.\n",
    "\n",
    "We can choose whether to use a function that modifies the data 'in-place' \n",
    "or a function that returns a modified copy, and leaves the original unchanged."
   ]
  },
  {
   "cell_type": "code",
   "execution_count": null,
   "id": "c8f4c460",
   "metadata": {},
   "outputs": [],
   "source": [
    "# Be careful when modifying data in-place. \n",
    "# If two variables refer to the same list, and you modify the list value, it will change for both variables!\n",
    "\n",
    "mild_salsa = ['peppers', 'onions', 'cilantro', 'tomatoes']\n",
    "hot_salsa = mild_salsa        # <-- mild_salsa and hot_salsa point to the *same* list data in memory\n",
    "hot_salsa[0] = 'hot peppers'\n",
    "print('Ingredients in mild salsa:', mild_salsa)\n",
    "print('Ingredients in hot salsa:', hot_salsa)"
   ]
  },
  {
   "cell_type": "code",
   "execution_count": null,
   "id": "d273217b",
   "metadata": {},
   "outputs": [],
   "source": [
    "# You must make a copy of the value when you assign it if you want variables with mutable values to be independent\n",
    "\n",
    "mild_salsa = ['peppers', 'onions', 'cilantro', 'tomatoes']\n",
    "hot_salsa = list(mild_salsa)        # <-- makes a *copy* of the list\n",
    "hot_salsa[0] = 'hot peppers'\n",
    "print('Ingredients in mild salsa:', mild_salsa)\n",
    "print('Ingredients in hot salsa:', hot_salsa)\n",
    "\n",
    "# Note: code which modifies data in place can be more difficult to understand. \n",
    "\n",
    "# However, it is often far more efficient to modify a large data structure in-place \n",
    "# than to create a modified copy for every small change. "
   ]
  },
  {
   "cell_type": "markdown",
   "id": "f5e35d24",
   "metadata": {},
   "source": [
    "## NESTED LISTS\n",
    "List can have lists in them following the structure my_list = [[1,2,3],[4,5,6][7,8,9]]"
   ]
  },
  {
   "cell_type": "code",
   "execution_count": null,
   "id": "4e2aed9f",
   "metadata": {},
   "outputs": [],
   "source": [
    "# To access individual slots in a list, use multiple indexes separated by square brackes\n",
    "veg = [['lettuce', 'lettuce', 'peppers', 'zucchini'],\n",
    "     ['lettuce', 'lettuce', 'peppers', 'zucchini'],\n",
    "     ['lettuce', 'cilantro', 'peppers', 'zucchini']]\n",
    "\n",
    "print(veg[0][0])\n",
    "\n",
    "print(veg[1][2])"
   ]
  },
  {
   "cell_type": "markdown",
   "id": "f27145f1",
   "metadata": {},
   "source": [
    "## Heterogeneous lists"
   ]
  },
  {
   "cell_type": "code",
   "execution_count": null,
   "id": "5665f80e",
   "metadata": {},
   "outputs": [],
   "source": [
    "# Lists in Python can contain elements of different types\n",
    "\n",
    "sample_ages = [10, 12.5, 'Unknown']"
   ]
  },
  {
   "cell_type": "code",
   "execution_count": null,
   "id": "4e46a302",
   "metadata": {},
   "outputs": [],
   "source": [
    "# Change the contents of a list by adding a new element\n",
    "\n",
    "odds.append(11)\n",
    "print('odds after adding a value:', odds)"
   ]
  },
  {
   "cell_type": "code",
   "execution_count": null,
   "id": "2e7638d9",
   "metadata": {},
   "outputs": [],
   "source": [
    "# Change the contents of list by removing an element\n",
    "\n",
    "removed_element = odds.pop(0)\n",
    "print('odds after removing the first element:', odds)\n",
    "print('removed_element:', removed_element)"
   ]
  },
  {
   "cell_type": "code",
   "execution_count": null,
   "id": "1dcffdd5",
   "metadata": {},
   "outputs": [],
   "source": [
    "# Change the order of the contents of list\n",
    "\n",
    "odds.reverse()\n",
    "print('odds after reversing:', odds)\n",
    "\n",
    "# Careful with in-place modification\n",
    "# Also, beware of muliple executions of the same function, especially in jupyter notebooks."
   ]
  },
  {
   "cell_type": "code",
   "execution_count": null,
   "id": "29fc7e0e",
   "metadata": {},
   "outputs": [],
   "source": [
    "# How to work by 'reference'\n",
    "\n",
    "odds = [3, 5, 7]\n",
    "primes = odds\n",
    "primes.append(2)\n",
    "print('primes:', primes)\n",
    "print('odds:', odds)"
   ]
  },
  {
   "cell_type": "code",
   "execution_count": null,
   "id": "fedc8a23",
   "metadata": {},
   "outputs": [],
   "source": [
    "# How to work by 'assignment'\n",
    "\n",
    "odds = [3, 5, 7]\n",
    "primes = list(odds)\n",
    "primes.append(2)\n",
    "print('primes:', primes)\n",
    "print('odds:', odds)"
   ]
  },
  {
   "cell_type": "markdown",
   "id": "7761bbef",
   "metadata": {},
   "source": [
    "# Subsets of lists\n",
    "\n",
    "Commonly referred to as “slicing” the list/string.\n",
    "Using a index range (e.g [1:2]) allows use to extract the items from the list \n",
    "starting at the first index, up to BUT excluding the last index"
   ]
  },
  {
   "cell_type": "code",
   "execution_count": null,
   "id": "5f358be8",
   "metadata": {},
   "outputs": [],
   "source": [
    "binomial_name = 'Drosophila melanogaster'\n",
    "group = binomial_name[0:10]\n",
    "print('group:', group)\n",
    "\n",
    "species = binomial_name[11:23]\n",
    "print('species:', species)\n",
    "\n",
    "chromosomes = ['X', 'Y', '2', '3', '4']\n",
    "autosomes = chromosomes[2:5]\n",
    "print('autosomes:', autosomes)\n",
    "\n",
    "last = chromosomes[-1]\n",
    "print('last:', last)"
   ]
  },
  {
   "cell_type": "code",
   "execution_count": null,
   "id": "6d605b17",
   "metadata": {},
   "outputs": [],
   "source": [
    "# Exercise - Slicing from the end\n",
    "\n",
    "string_for_slicing = 'Observation date: 02-Feb-2013'\n",
    "list_for_slicing = [['fluorine', 'F'],\n",
    "                    ['chlorine', 'Cl'],\n",
    "                    ['bromine', 'Br'],\n",
    "                    ['iodine', 'I'],\n",
    "                    ['astatine', 'At']]\n",
    "\n",
    "# Use slicing to access only the last four characters of a string (or entries of a list).\n",
    "# Hint: Remember that indices can be negative as well as positive"
   ]
  },
  {
   "cell_type": "code",
   "execution_count": null,
   "id": "bfe82d5e",
   "metadata": {},
   "outputs": [],
   "source": [
    "# Non-Continuous Slices\n",
    "# What if we want to take a subset of entries that aren’t next to each other in the sequence?\n",
    "# Providing a third argument to the range within the brackets make this possible, called the step size\n",
    "\n",
    "primes = [2, 3, 5, 7, 11, 13, 17, 19, 23, 29, 31, 37]\n",
    "subset = primes[0:12:3]\n",
    "print('subset', subset)"
   ]
  },
  {
   "cell_type": "code",
   "execution_count": null,
   "id": "0c61957e",
   "metadata": {},
   "outputs": [],
   "source": [
    "# Exercise\n",
    "# What slice of beatles will produce the following output 'I notpssgre ntesae'?\n",
    "\n",
    "beatles = \"In an octopus's garden in the shade\""
   ]
  }
 ],
 "metadata": {
  "kernelspec": {
   "display_name": "Python 3 (ipykernel)",
   "language": "python",
   "name": "python3"
  },
  "language_info": {
   "codemirror_mode": {
    "name": "ipython",
    "version": 3
   },
   "file_extension": ".py",
   "mimetype": "text/x-python",
   "name": "python",
   "nbconvert_exporter": "python",
   "pygments_lexer": "ipython3",
   "version": "3.10.14"
  }
 },
 "nbformat": 4,
 "nbformat_minor": 5
}
