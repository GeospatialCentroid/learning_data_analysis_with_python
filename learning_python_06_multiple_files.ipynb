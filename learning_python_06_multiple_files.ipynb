{
 "cells": [
  {
   "cell_type": "markdown",
   "id": "a43e83ab",
   "metadata": {},
   "source": [
    "# Learning Python Data Analysis\n",
    "\n",
    "## Analyzing Data from Multiple Files\n",
    "\n",
    "Setup: https://swcarpentry.github.io/python-novice-inflammation/instructor/index.html#setup\n",
    "\n",
    "Instruction: https://swcarpentry.github.io/python-novice-inflammation/instructor/06-files.html\n",
    "\n",
    "Objectives:\n",
    "* Use a library function to get a list of filenames that match a wildcard pattern.\n",
    "* Write a loop to process multiple files."
   ]
  },
  {
   "cell_type": "code",
   "execution_count": null,
   "id": "53d00fba",
   "metadata": {},
   "outputs": [],
   "source": [
    "# Let's list all the files in our data directory starting with 'inflammation-' and end with '.csv'\n",
    "\n",
    "# The glob library contains a function (also called glob) to help us finds files and directories whose names match a pattern\n",
    "import glob\n",
    "\n",
    "print(glob.glob('data/inflammation*.csv'))\n",
    "# Notice the files are not in order"
   ]
  },
  {
   "cell_type": "code",
   "execution_count": null,
   "id": "446f0667",
   "metadata": {},
   "outputs": [],
   "source": [
    "# Let's sort the files and create plots of the first 3\n",
    "\n",
    "import glob\n",
    "import numpy\n",
    "import matplotlib.pyplot\n",
    "\n",
    "filenames = sorted(glob.glob('data/inflammation*.csv'))\n",
    "filenames = filenames[0:3]\n",
    "for filename in filenames:\n",
    "    print(filename)\n",
    "\n",
    "    data = numpy.loadtxt(fname=filename, delimiter=',')\n",
    "\n",
    "    fig = matplotlib.pyplot.figure(figsize=(10.0, 3.0))\n",
    "\n",
    "    axes1 = fig.add_subplot(1, 3, 1)\n",
    "    axes2 = fig.add_subplot(1, 3, 2)\n",
    "    axes3 = fig.add_subplot(1, 3, 3)\n",
    "\n",
    "    axes1.set_ylabel('average')\n",
    "    axes1.plot(numpy.mean(data, axis=0))\n",
    "\n",
    "    axes2.set_ylabel('max')\n",
    "    axes2.plot(numpy.amax(data, axis=0))\n",
    "\n",
    "    axes3.set_ylabel('min')\n",
    "    axes3.plot(numpy.amin(data, axis=0))\n",
    "\n",
    "    fig.tight_layout()\n",
    "    matplotlib.pyplot.show()"
   ]
  },
  {
   "cell_type": "markdown",
   "id": "55014097",
   "metadata": {},
   "source": [
    "The plots generated for the second clinical trial file look very similar to the plots for the first file: their average plots show similar “noisy” rises and falls; their maxima plots show exactly the same linear rise and fall; and their minima plots show similar staircase structures.\n",
    "\n",
    "The third dataset shows much noisier average and maxima plots that are far less suspicious than the first two datasets, however the minima plot shows that the third dataset minima is consistently zero across every day of the trial. "
   ]
  },
  {
   "cell_type": "code",
   "execution_count": null,
   "id": "515c3932",
   "metadata": {},
   "outputs": [],
   "source": [
    "# If we produce a heat map for the third data file we see the following:\n",
    "\n",
    "# Zero values sporadically distributed across all patients and days of the clinical trial, \n",
    "# suggesting that there were potential issues with data collection throughout the trial. \n",
    "# In addition, we can see that the last patient in the study didn’t have any inflammation flare-ups \n",
    "# at all throughout the trial, suggesting that they may not even suffer from arthritis!\n",
    "image = matplotlib.pyplot.imshow(numpy.loadtxt(fname='data/inflammation-03.csv', delimiter=','))\n",
    "matplotlib.pyplot.show()"
   ]
  },
  {
   "cell_type": "code",
   "execution_count": null,
   "id": "ab00d077",
   "metadata": {},
   "outputs": [],
   "source": [
    "# Plot the difference between the average inflammations reported in the first and second dataset\n",
    "import glob\n",
    "import numpy\n",
    "import matplotlib.pyplot\n",
    "\n",
    "filenames = sorted(glob.glob('data/inflammation*.csv'))\n",
    "\n",
    "data0 = numpy.loadtxt(fname=filenames[0], delimiter=',')\n",
    "data1 = numpy.loadtxt(fname=filenames[1], delimiter=',')\n",
    "\n",
    "fig = matplotlib.pyplot.figure(figsize=(10.0, 3.0))\n",
    "\n",
    "matplotlib.pyplot.ylabel('Difference in average')\n",
    "matplotlib.pyplot.plot(numpy.mean(data0, axis=0) - numpy.mean(data1, axis=0))\n",
    "\n",
    "fig.tight_layout()\n",
    "matplotlib.pyplot.show()"
   ]
  },
  {
   "cell_type": "code",
   "execution_count": null,
   "id": "c8f4c460",
   "metadata": {},
   "outputs": [],
   "source": [
    "# Use each of the files once to generate a dataset containing values averaged over all patients\n",
    "import glob\n",
    "import numpy\n",
    "import matplotlib.pyplot\n",
    "\n",
    "filenames = glob.glob('data/inflammation*.csv')\n",
    "composite_data = numpy.zeros((60, 40))\n",
    "\n",
    "for filename in filenames:\n",
    "    data = numpy.loadtxt(fname = filename, delimiter=',')\n",
    "    composite_data = composite_data + data\n",
    "\n",
    "composite_data = composite_data / len(filenames)\n",
    "\n",
    "fig = matplotlib.pyplot.figure(figsize=(10.0, 3.0))\n",
    "\n",
    "axes1 = fig.add_subplot(1, 3, 1)\n",
    "axes2 = fig.add_subplot(1, 3, 2)\n",
    "axes3 = fig.add_subplot(1, 3, 3)\n",
    "\n",
    "axes1.set_ylabel('average')\n",
    "axes1.plot(numpy.mean(composite_data, axis=0))\n",
    "\n",
    "axes2.set_ylabel('max')\n",
    "axes2.plot(numpy.amax(composite_data, axis=0))\n",
    "\n",
    "axes3.set_ylabel('min')\n",
    "axes3.plot(numpy.amin(composite_data, axis=0))\n",
    "\n",
    "fig.tight_layout()\n",
    "\n",
    "matplotlib.pyplot.show()"
   ]
  }
 ],
 "metadata": {
  "kernelspec": {
   "display_name": "Python 3 (ipykernel)",
   "language": "python",
   "name": "python3"
  },
  "language_info": {
   "codemirror_mode": {
    "name": "ipython",
    "version": 3
   },
   "file_extension": ".py",
   "mimetype": "text/x-python",
   "name": "python",
   "nbconvert_exporter": "python",
   "pygments_lexer": "ipython3",
   "version": "3.11.5"
  }
 },
 "nbformat": 4,
 "nbformat_minor": 5
}
