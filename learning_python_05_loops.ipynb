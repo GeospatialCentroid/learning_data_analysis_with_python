{
 "cells": [
  {
   "cell_type": "markdown",
   "id": "a43e83ab",
   "metadata": {},
   "source": [
    "# Learning Python Data Analysis\n",
    "\n",
    "## Repeating Actions with Loops\n",
    "\n",
    "Setup: https://swcarpentry.github.io/python-novice-inflammation/instructor/index.html#setup\n",
    "\n",
    "Instruction: https://swcarpentry.github.io/python-novice-inflammation/instructor/05-loop.html\n",
    "\n",
    "Objectives:\n",
    "* Explain what a for loop does.\n",
    "* Correctly write for loops to repeat simple calculations.\n",
    "* Trace changes to a loop variable as the loop runs.\n",
    "* Trace changes to other variables as they are updated by a for loop."
   ]
  },
  {
   "cell_type": "code",
   "execution_count": null,
   "id": "53d00fba",
   "metadata": {},
   "outputs": [],
   "source": [
    "# A 'for' loop uses the following code structure: \n",
    "# the keyword for, followed by an arbitrary variable name (e.g. 'num'), \n",
    "# the keyword 'in', then the object to loop over, and finally a ':' signifying the start of a code block.\n",
    "# the next line is indented making it part of the code block and is executed with each loop\n",
    "odds = [1, 3, 5, 7]\n",
    "for num in odds:\n",
    "    print(num)"
   ]
  },
  {
   "cell_type": "code",
   "execution_count": null,
   "id": "446f0667",
   "metadata": {},
   "outputs": [],
   "source": [
    "# get the length of the list\n",
    "print(len(odds))"
   ]
  },
  {
   "cell_type": "code",
   "execution_count": null,
   "id": "66597bd0",
   "metadata": {},
   "outputs": [],
   "source": [
    "# Using Range\n",
    "for number in range(1, 4):\n",
    "    print(number)\n",
    "    \n",
    "#Note: it only goes up to 3!"
   ]
  },
  {
   "cell_type": "code",
   "execution_count": null,
   "id": "515c3932",
   "metadata": {},
   "outputs": [],
   "source": [
    "# Exercise - Before runnning the code, how many times is the body of the loop executed?\n",
    "word = 'oxygen'\n",
    "# for letter in word:\n",
    "#     print(letter)"
   ]
  },
  {
   "cell_type": "code",
   "execution_count": null,
   "id": "ab00d077",
   "metadata": {},
   "outputs": [],
   "source": [
    "# summing a list\n",
    "numbers = [124, 402, 36]\n",
    "\n",
    "summed = 0\n",
    "for num in numbers:\n",
    "    summed = summed + num\n",
    "print(summed)\n",
    "\n",
    "# Or\n",
    "import numpy\n",
    "numpy.sum(numbers)"
   ]
  },
  {
   "cell_type": "code",
   "execution_count": null,
   "id": "c8f4c460",
   "metadata": {},
   "outputs": [],
   "source": [
    "# enumerate lets you access the index with each loop\n",
    "for idx, val in enumerate(odds):\n",
    "    print(idx, val)"
   ]
  }
 ],
 "metadata": {
  "kernelspec": {
   "display_name": "Python 3 (ipykernel)",
   "language": "python",
   "name": "python3"
  },
  "language_info": {
   "codemirror_mode": {
    "name": "ipython",
    "version": 3
   },
   "file_extension": ".py",
   "mimetype": "text/x-python",
   "name": "python",
   "nbconvert_exporter": "python",
   "pygments_lexer": "ipython3",
   "version": "3.11.5"
  }
 },
 "nbformat": 4,
 "nbformat_minor": 5
}
