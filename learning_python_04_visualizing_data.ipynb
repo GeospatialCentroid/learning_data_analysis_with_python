{
 "cells": [
  {
   "cell_type": "markdown",
   "id": "a43e83ab",
   "metadata": {},
   "source": [
    "# Learning Python Data Analysis\n",
    "\n",
    "## Python Visualizing Tabular Data\n",
    "\n",
    "Setup: https://swcarpentry.github.io/python-novice-inflammation/instructor/index.html#setup\n",
    "\n",
    "Instruction: https://swcarpentry.github.io/python-novice-inflammation/instructor/03-matplotlib.html\n",
    "\n",
    "Objectives:\n",
    "* Plot simple graphs from data.\n",
    "* Plot multiple graphs in a single figure."
   ]
  },
  {
   "cell_type": "code",
   "execution_count": null,
   "id": "53d00fba",
   "metadata": {},
   "outputs": [],
   "source": [
    "# Load NumPy and data\n",
    "import numpy\n",
    "data = numpy.loadtxt(fname='data/inflammation-01.csv', delimiter=',')"
   ]
  },
  {
   "cell_type": "code",
   "execution_count": null,
   "id": "446f0667",
   "metadata": {},
   "outputs": [],
   "source": [
    "import matplotlib.pyplot # Only load the pyplot module from matplotlib, using dot notation\n",
    "# The pyplot docs: https://matplotlib.org/3.5.3/api/_as_gen/matplotlib.pyplot.html\n",
    "\n",
    "# Plot the data\n",
    "image = matplotlib.pyplot.imshow(data)\n",
    "matplotlib.pyplot.show()\n",
    "\n",
    "# Each row in the heat map corresponds to a patient in the clinical trial dataset\n",
    "# Each column corresponds to a day in the dataset\n",
    "# Blue pixels represent low values, and yellow pixels represent high values"
   ]
  },
  {
   "cell_type": "markdown",
   "id": "438ef8b3",
   "metadata": {
    "editable": true,
    "slideshow": {
     "slide_type": ""
    },
    "tags": []
   },
   "source": [
    "# About the Data\n",
    "* Clinical trial data for an imaginary miracle drug that promises to cure arthritis\n",
    "* The patients take the medication once their inflammation flare-ups begin\n",
    "* It takes around 3 weeks for the medication to take effect and begin reducing flare-ups"
   ]
  },
  {
   "cell_type": "code",
   "execution_count": null,
   "id": "515c3932",
   "metadata": {},
   "outputs": [],
   "source": [
    "# Let's look at the average inflammation over time\n",
    "\n",
    "# Get the average inflammation per day across all patients in the variable ave_inflammation\n",
    "ave_inflammation = numpy.mean(data, axis=0)\n",
    "\n",
    "# Then create (and display) a line graph of those values \n",
    "ave_plot = matplotlib.pyplot.plot(ave_inflammation)\n",
    "matplotlib.pyplot.show()\n",
    "\n",
    "# The result is a reasonably linear rise and fall"
   ]
  },
  {
   "cell_type": "code",
   "execution_count": null,
   "id": "ab00d077",
   "metadata": {},
   "outputs": [],
   "source": [
    "# Plotting the max value\n",
    "\n",
    "max_plot = matplotlib.pyplot.plot(numpy.amax(data, axis=0))\n",
    "matplotlib.pyplot.show()"
   ]
  },
  {
   "cell_type": "code",
   "execution_count": null,
   "id": "c8f4c460",
   "metadata": {},
   "outputs": [],
   "source": [
    "# And the min value\n",
    "\n",
    "min_plot = matplotlib.pyplot.plot(numpy.amin(data, axis=0))\n",
    "matplotlib.pyplot.show()"
   ]
  },
  {
   "cell_type": "markdown",
   "id": "af0225ce",
   "metadata": {},
   "source": [
    "Conclusion: The maximum value rises and falls linearly, while the minimum seems to be a step function. \n",
    "Neither trend seems particularly likely.\n",
    "\n",
    "There’s either a mistake in our calculations or something is wrong with our data. This insight would have been difficult to reach by examining the numbers themselves without visualization tools."
   ]
  },
  {
   "cell_type": "markdown",
   "id": "fc3b4483",
   "metadata": {},
   "source": [
    "## Grouping plots\n",
    "You can group similar plots in a single figure using subplots."
   ]
  },
  {
   "cell_type": "code",
   "execution_count": null,
   "id": "4e2aed9f",
   "metadata": {
    "editable": true,
    "slideshow": {
     "slide_type": ""
    },
    "tags": []
   },
   "outputs": [],
   "source": [
    "# Create 3 plots side by side\n",
    "import numpy\n",
    "import matplotlib.pyplot\n",
    "\n",
    "data = numpy.loadtxt(fname='data/inflammation-01.csv', delimiter=',')\n",
    "\n",
    "fig = matplotlib.pyplot.figure(figsize=(10.0, 3.0)) # define the size\n",
    "\n",
    "# add_subplot method takes 3 parameters. \n",
    "# 1. total rows of subplots\n",
    "# 2. total columns of subplots \n",
    "# 3. which subplot your variable is referencing (left-to-right, top-to-bottom)\n",
    "\n",
    "axes1 = fig.add_subplot(1, 3, 1)\n",
    "axes2 = fig.add_subplot(1, 3, 2)\n",
    "axes3 = fig.add_subplot(1, 3, 3)\n",
    "\n",
    "axes1.set_ylabel('average')\n",
    "axes1.plot(numpy.mean(data, axis=0))\n",
    "\n",
    "axes2.set_ylabel('max')\n",
    "axes2.plot(numpy.amax(data, axis=0))\n",
    "\n",
    "axes3.set_ylabel('min')\n",
    "axes3.plot(numpy.amin(data, axis=0))\n",
    "\n",
    "fig.tight_layout()\n",
    "\n",
    "matplotlib.pyplot.savefig('inflammation.png')\n",
    "matplotlib.pyplot.show()"
   ]
  },
  {
   "cell_type": "markdown",
   "id": "644efa5b-1ee3-49ee-9660-35a3750d6a3f",
   "metadata": {
    "editable": true,
    "slideshow": {
     "slide_type": ""
    },
    "tags": []
   },
   "source": [
    "Exercise - create your own plot showing the \n",
    "standard deviation (numpy.std) of the inflammation data for each day across all patients."
   ]
  },
  {
   "cell_type": "code",
   "execution_count": null,
   "id": "cc5680ba-532b-4ba9-b09f-efa671c8ede7",
   "metadata": {},
   "outputs": [],
   "source": []
  }
 ],
 "metadata": {
  "kernelspec": {
   "display_name": "Python 3 (ipykernel)",
   "language": "python",
   "name": "python3"
  },
  "language_info": {
   "codemirror_mode": {
    "name": "ipython",
    "version": 3
   },
   "file_extension": ".py",
   "mimetype": "text/x-python",
   "name": "python",
   "nbconvert_exporter": "python",
   "pygments_lexer": "ipython3",
   "version": "3.10.14"
  }
 },
 "nbformat": 4,
 "nbformat_minor": 5
}
