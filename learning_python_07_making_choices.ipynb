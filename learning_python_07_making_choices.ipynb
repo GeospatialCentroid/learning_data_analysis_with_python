{
 "cells": [
  {
   "cell_type": "markdown",
   "id": "a43e83ab",
   "metadata": {},
   "source": [
    "# Learning Python Data Analysis\n",
    "\n",
    "## Making Choices\n",
    "\n",
    "Setup: https://swcarpentry.github.io/python-novice-inflammation/instructor/index.html#setup\n",
    "\n",
    "Instruction: https://swcarpentry.github.io/python-novice-inflammation/instructor/07-cond.html\n",
    "\n",
    "Objectives:\n",
    "* Write conditional statements including if, elif, and else branches.\n",
    "* Correctly evaluate expressions containing 'and' and 'or'."
   ]
  },
  {
   "cell_type": "code",
   "execution_count": null,
   "id": "53d00fba",
   "metadata": {},
   "outputs": [],
   "source": [
    "# python can take different actions depending on a condition using an if statement:\n",
    "\n",
    "num = 37\n",
    "if num > 100:\n",
    "    print('greater')\n",
    "else:\n",
    "    print('not greater')\n",
    "print('done')"
   ]
  },
  {
   "cell_type": "code",
   "execution_count": null,
   "id": "446f0667",
   "metadata": {},
   "outputs": [],
   "source": [
    "# No else needed...\n",
    "\n",
    "num = 53\n",
    "print('before conditional...')\n",
    "if num > 100:\n",
    "    print(num, 'is greater than 100')\n",
    "print('...after conditional')"
   ]
  },
  {
   "cell_type": "code",
   "execution_count": null,
   "id": "21fd6796",
   "metadata": {},
   "outputs": [],
   "source": [
    "# chain several tests together using 'elif'\n",
    "\n",
    "num = -3\n",
    "\n",
    "if num > 0:\n",
    "    print(num, 'is positive')\n",
    "elif num == 0: #test for equality we use a double equals sign == rather than a single equals sign =\n",
    "    print(num, 'is zero')\n",
    "else:\n",
    "    print(num, 'is negative')"
   ]
  },
  {
   "cell_type": "markdown",
   "id": "972f1e5b",
   "metadata": {},
   "source": [
    "## Comparing in python\n",
    "For comparing values in our conditionals we can use the following:\n",
    "\n",
    "* '>': greater than\n",
    "* '<': less than\n",
    "* '==': equal to\n",
    "* '!=': does not equal\n",
    "* '>=': greater than or equal to\n",
    "* '<=': less than or equal to\n",
    "\n",
    "To combine tests, use 'and' and 'or'. "
   ]
  },
  {
   "cell_type": "code",
   "execution_count": null,
   "id": "ab00d077",
   "metadata": {},
   "outputs": [],
   "source": [
    "# 'and' is only true if both parts are true:\n",
    "\n",
    "if (1 > 0) and (-1 >= 0):\n",
    "    print('both parts are true')\n",
    "else:\n",
    "    print('at least one part is false')"
   ]
  },
  {
   "cell_type": "code",
   "execution_count": null,
   "id": "c8f4c460",
   "metadata": {},
   "outputs": [],
   "source": [
    "# 'or' is true if at least one part is true:\n",
    "if (1 < 0) or (1 >= 0):\n",
    "    print('at least one test is true')"
   ]
  },
  {
   "cell_type": "markdown",
   "id": "66e3042f",
   "metadata": {},
   "source": [
    "True and False are special words in Python called booleans, which represent truth values. \n",
    "A statement such as 1 < 0 returns the value False, while -1 < 0 returns the value True."
   ]
  },
  {
   "cell_type": "markdown",
   "id": "1d9ba423",
   "metadata": {},
   "source": [
    "## Checking our Data\n",
    "Let's use conditions to check for the suspicious features in our inflammation data. We will use functions provided by the numpy module again."
   ]
  },
  {
   "cell_type": "code",
   "execution_count": null,
   "id": "704af018",
   "metadata": {},
   "outputs": [],
   "source": [
    "import numpy\n",
    "data = numpy.loadtxt(fname='data/inflammation-01.csv', delimiter=',')\n",
    "\n",
    "# If the maximum daily inflammation raises one unit a day it seems suspicious\n",
    "# Let's check if maximum inflammation in the beginning (day 0) and in the middle (day 20) are equal to the corresponding day numbers.\n",
    "max_inflammation_0 = numpy.amax(data, axis=0)[0]\n",
    "max_inflammation_20 = numpy.amax(data, axis=0)[20]\n",
    "\n",
    "if max_inflammation_0 == 0 and max_inflammation_20 == 20:\n",
    "    print('Suspicious looking maxima!')"
   ]
  },
  {
   "cell_type": "markdown",
   "id": "cbe45cff",
   "metadata": {},
   "source": [
    "We also saw a different problem in the third dataset; \n",
    "the minima per day were all zero (looks like a healthy person snuck into our study). \n",
    "We can also check for this with an 'elif' condition:\n",
    "```\n",
    "elif numpy.sum(numpy.amin(data, axis=0)) == 0:\n",
    "\n",
    "    print('Minima add up to zero!')\n",
    "```"
   ]
  },
  {
   "cell_type": "markdown",
   "id": "793dddec",
   "metadata": {},
   "source": [
    "And if neither of these conditions are true, we can use 'else' to give the all-clear:\n",
    "```\n",
    "else:\n",
    "    print('Seems OK!')\n",
    "```"
   ]
  },
  {
   "cell_type": "code",
   "execution_count": null,
   "id": "b9eb635b",
   "metadata": {},
   "outputs": [],
   "source": [
    "# Put it all together\n",
    "data = numpy.loadtxt(fname='data/inflammation-01.csv', delimiter=',')\n",
    "\n",
    "max_inflammation_0 = numpy.amax(data, axis=0)[0]\n",
    "max_inflammation_20 = numpy.amax(data, axis=0)[20]\n",
    "\n",
    "if max_inflammation_0 == 0 and max_inflammation_20 == 20:\n",
    "    print('Suspicious looking maxima!')\n",
    "elif numpy.sum(numpy.amin(data, axis=0)) == 0:\n",
    "    print('Minima add up to zero!')\n",
    "else:\n",
    "    print('Seems OK!')\n",
    "    \n",
    "# try to also run it on another file 3   "
   ]
  },
  {
   "cell_type": "code",
   "execution_count": null,
   "id": "743eabaf",
   "metadata": {},
   "outputs": [],
   "source": [
    "# Exercise - Before executing the code, what is the answer\n",
    "\n",
    "if 4 > 5:\n",
    "    print('A')\n",
    "elif 4 == 5:\n",
    "    print('B')\n",
    "elif 4 < 5:\n",
    "    print('C')"
   ]
  },
  {
   "cell_type": "code",
   "execution_count": null,
   "id": "44321623",
   "metadata": {},
   "outputs": [],
   "source": [
    "# Exercise - Explain the outcome\n",
    "if '':\n",
    "    print('empty string is true')\n",
    "if 'word':\n",
    "    print('word is true')\n",
    "if []:\n",
    "    print('empty list is true')\n",
    "if [1, 2, 3]:\n",
    "    print('non-empty list is true')\n",
    "if 0:\n",
    "    print('zero is true')\n",
    "if 1:\n",
    "    print('one is true')"
   ]
  },
  {
   "cell_type": "code",
   "execution_count": null,
   "id": "bd7f500c",
   "metadata": {},
   "outputs": [],
   "source": [
    "# Using the 'not' operator\n",
    "\n",
    "if not '':\n",
    "    print('empty string is not true')\n",
    "if not 'word':\n",
    "    print('word is not true')\n",
    "if not not True:\n",
    "    print('not not True is true')"
   ]
  },
  {
   "cell_type": "code",
   "execution_count": null,
   "id": "0623ab37",
   "metadata": {},
   "outputs": [],
   "source": [
    "# check if two values are within 10% of each other\n",
    "a = 5\n",
    "b = 5.1\n",
    "\n",
    "if abs(a - b) <= 0.1 * abs(b):\n",
    "    print('True')\n",
    "else:\n",
    "    print('False')"
   ]
  },
  {
   "cell_type": "code",
   "execution_count": null,
   "id": "9628c0ac",
   "metadata": {},
   "outputs": [],
   "source": [
    "# In-place operators\n",
    "x = 1  # original value\n",
    "x += 1 # add one to x, assigning result back to x\n",
    "x *= 3 # multiply x by 3\n",
    "print(x)"
   ]
  },
  {
   "cell_type": "code",
   "execution_count": null,
   "id": "33924ced",
   "metadata": {},
   "outputs": [],
   "source": [
    "# Exercise - Write some code that sums the positive and negative numbers from the list separately\n",
    "# print the result\n",
    "test_list = [3, 4, 6, 1, -1, -5, 0, 7, -8]"
   ]
  },
  {
   "cell_type": "code",
   "execution_count": null,
   "id": "f3bafb65",
   "metadata": {},
   "outputs": [],
   "source": [
    "''' \n",
    "Exercise - Sort the following files using the 'String'.startswith('Str') method to populate each of the lists.\n",
    "Put 'inflammation- into the 'large_files' list, 'small-' into 'small_files' list, \n",
    "and put everthing else into 'other_files' list.\n",
    "'''\n",
    "\n",
    "#Note: the above method using ''' ''' is a great way to comment multiple lines.\n",
    "\n",
    "filenames = ['inflammation-01.csv',\n",
    "         'myscript.py',\n",
    "         'inflammation-02.csv',\n",
    "         'small-01.csv',\n",
    "         'small-02.csv']\n",
    "large_files = []\n",
    "small_files = []\n",
    "other_files = []\n",
    "\n",
    "# Bonus - use 'glob' to get the file names from the 'data' folder!"
   ]
  },
  {
   "cell_type": "code",
   "execution_count": null,
   "id": "b04c82d0",
   "metadata": {},
   "outputs": [],
   "source": [
    "# Exercise - Write a loop that counts the number of vowels in a 'sentence'.\n",
    "vowels = 'aeiouAEIOU'\n",
    "sentence = 'Mary had a little lamb.'"
   ]
  }
 ],
 "metadata": {
  "kernelspec": {
   "display_name": "Python 3 (ipykernel)",
   "language": "python",
   "name": "python3"
  },
  "language_info": {
   "codemirror_mode": {
    "name": "ipython",
    "version": 3
   },
   "file_extension": ".py",
   "mimetype": "text/x-python",
   "name": "python",
   "nbconvert_exporter": "python",
   "pygments_lexer": "ipython3",
   "version": "3.11.5"
  }
 },
 "nbformat": 4,
 "nbformat_minor": 5
}
