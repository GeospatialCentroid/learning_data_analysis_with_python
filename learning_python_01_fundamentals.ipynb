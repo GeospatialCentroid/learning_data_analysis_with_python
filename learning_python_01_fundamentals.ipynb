{
 "cells": [
  {
   "cell_type": "markdown",
   "id": "a43e83ab",
   "metadata": {},
   "source": [
    "# Learning Python Data Analysis\n",
    "\n",
    "## Python Fundamentals\n",
    "\n",
    "Setup: https://swcarpentry.github.io/python-novice-inflammation/instructor/index.html#setup\n",
    "\n",
    "Instruction: https://swcarpentry.github.io/python-novice-inflammation/instructor/01-intro.html\n",
    "\n",
    "Objectives:\n",
    "* Commenting code\n",
    "* Assign values to variables\n",
    "* Data types\n",
    "* Calling built-in functions\n",
    "\n",
    "Jupyter Notebook is a great way to execute small chunks of code \n",
    "BUT you will quickly outgrow it, so best to use an IDE like spyder (https://www.spyder-ide.org/) \n",
    "or PyCharm Community Edition https://www.jetbrains.com/pycharm/download/?section=mac!"
   ]
  },
  {
   "cell_type": "code",
   "execution_count": 1,
   "id": "53d00fba",
   "metadata": {},
   "outputs": [
    {
     "data": {
      "text/plain": [
       "23"
      ]
     },
     "execution_count": 1,
     "metadata": {},
     "output_type": "execute_result"
    }
   ],
   "source": [
    "# This is a code cell\n",
    "# the '#' prevents this text from being interpreted as python\n",
    "\n",
    "# To run some calculations you can simply type numbers and operators then click 'Run'\n",
    "\n",
    "3+5*4"
   ]
  },
  {
   "cell_type": "code",
   "execution_count": null,
   "id": "ee57c776",
   "metadata": {},
   "outputs": [],
   "source": [
    "# Using the equals sign '=' allows us to store values as a variable\n",
    "\n",
    "weight_kg = 60"
   ]
  },
  {
   "cell_type": "markdown",
   "id": "c5757bec",
   "metadata": {},
   "source": [
    "In Python, variable names:\n",
    "\n",
    "* can include letters, digits, and underscores\n",
    "* cannot start with a digit\n",
    "* are case sensitive\n",
    "* also best to avoid using reserved words https://docs.python.org/3/reference/lexical_analysis.html#identifiers\n",
    "\n",
    "For example:\n",
    "* weight0 is a valid variable name, whereas 0weight is not\n",
    "* weight and Weight are different variables"
   ]
  },
  {
   "cell_type": "markdown",
   "id": "2f7b772b",
   "metadata": {},
   "source": [
    "## Types of Data\n",
    "Python knows various types of data. Three common ones are:\n",
    "* integer numbers\n",
    "* floating point numbers, and\n",
    "* strings."
   ]
  },
  {
   "cell_type": "code",
   "execution_count": null,
   "id": "06b3b4e4",
   "metadata": {},
   "outputs": [],
   "source": [
    "# Making our weight_kg variable a 'float'\n",
    "\n",
    "weight_kg = 60.0"
   ]
  },
  {
   "cell_type": "code",
   "execution_count": null,
   "id": "c8f4c460",
   "metadata": {},
   "outputs": [],
   "source": [
    "# Creating a string variable\n",
    "\n",
    "patient_id = '001'\n",
    "\n",
    "# Note: single or double quotes must be used arround string variable value assignments\n",
    "# And you must be consistent e.g patient_id = '001\" will not work, but patient_id = \"001\" will :)"
   ]
  },
  {
   "cell_type": "markdown",
   "id": "6c98a349",
   "metadata": {},
   "source": [
    "## Using Variables in Python"
   ]
  },
  {
   "cell_type": "code",
   "execution_count": null,
   "id": "216ea645",
   "metadata": {},
   "outputs": [],
   "source": [
    "# Store our patient’s weight in pounds as well as kilograms\n",
    "# Note: there are 2.2 pounds in each kilogram\n",
    "\n",
    "weight_lb = 2.2 * weight_kg"
   ]
  },
  {
   "cell_type": "code",
   "execution_count": null,
   "id": "4e2aed9f",
   "metadata": {},
   "outputs": [],
   "source": [
    "# Add a prefix to our patient identifier\n",
    "\n",
    "patient_id = 'inflam_' + patient_id"
   ]
  },
  {
   "cell_type": "markdown",
   "id": "f27145f1",
   "metadata": {},
   "source": [
    "## Built-in Python Functions\n",
    "\n",
    "There are several built-in functions to help us carry out common tasks in python\n",
    "Functions are always called by the function name, followed by parenthasis (e.g print())"
   ]
  },
  {
   "cell_type": "code",
   "execution_count": null,
   "id": "5665f80e",
   "metadata": {},
   "outputs": [],
   "source": [
    "# To display information on the screen we use the 'print' function\n",
    "# Values or variables passed to the function are placed inside the parenthasis e.g print(variable) \n",
    "# These are know as parameters\n",
    "\n",
    "print(weight_lb)\n",
    "print(patient_id)\n",
    "\n",
    "# When more than one value is passed to a function, commas are used to separate them\n",
    "print(patient_id, 'weight in kilograms:', weight_kg)"
   ]
  },
  {
   "cell_type": "code",
   "execution_count": null,
   "id": "4e46a302",
   "metadata": {},
   "outputs": [],
   "source": [
    "# You can call functions in function in functions, but clarity is preferred over conciseness in programming\n",
    "# Another useful built-in function is 'type', which returns the data type of a value\n",
    "\n",
    "print(type(60.3))\n",
    "print(type(patient_id))"
   ]
  },
  {
   "cell_type": "code",
   "execution_count": null,
   "id": "2e7638d9",
   "metadata": {},
   "outputs": [],
   "source": [
    "# We can also do arithmetic with variables right inside the 'print' function\n",
    "# Note: we are not changing the value of weight_kg:\n",
    "\n",
    "print('weight in pounds:', 2.2 * weight_kg)"
   ]
  },
  {
   "cell_type": "code",
   "execution_count": null,
   "id": "1dcffdd5",
   "metadata": {},
   "outputs": [],
   "source": [
    "# To change the value of the weight_kg variable, we have to assign weight_kg a new value using the equals (=) sign\n",
    "weight_kg = 65.0\n",
    "print('weight in kilograms is now:', weight_kg)"
   ]
  },
  {
   "cell_type": "code",
   "execution_count": null,
   "id": "29fc7e0e",
   "metadata": {},
   "outputs": [],
   "source": [
    "#Exercise\n",
    "# What values do the variables 'mass' and 'age' have after each of the following statements? \n",
    "\n",
    "mass = 47.5\n",
    "age = 122\n",
    "mass = mass * 2.0\n",
    "age = age - 20"
   ]
  },
  {
   "cell_type": "code",
   "execution_count": null,
   "id": "fedc8a23",
   "metadata": {},
   "outputs": [],
   "source": [
    "# Assign multiple values to multiple variables in one line:\n",
    "\n",
    "first, second = 'Grace', 'Hopper'\n",
    "third, fourth = second, first\n",
    "print(third, fourth)"
   ]
  },
  {
   "cell_type": "code",
   "execution_count": null,
   "id": "dd6a4fe5",
   "metadata": {},
   "outputs": [],
   "source": [
    "#Exercise\n",
    "# What are the data types of the following variables?\n",
    "\n",
    "planet = 'Earth'\n",
    "apples = 5\n",
    "distance = 10.5"
   ]
  }
 ],
 "metadata": {
  "kernelspec": {
   "display_name": "Python 3 (ipykernel)",
   "language": "python",
   "name": "python3"
  },
  "language_info": {
   "codemirror_mode": {
    "name": "ipython",
    "version": 3
   },
   "file_extension": ".py",
   "mimetype": "text/x-python",
   "name": "python",
   "nbconvert_exporter": "python",
   "pygments_lexer": "ipython3",
   "version": "3.10.14"
  }
 },
 "nbformat": 4,
 "nbformat_minor": 5
}
