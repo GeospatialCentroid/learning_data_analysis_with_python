{
 "cells": [
  {
   "cell_type": "markdown",
   "id": "a43e83ab",
   "metadata": {},
   "source": [
    "# Learning Python Data Analysis\n",
    "\n",
    "## Python Analyzing Data\n",
    "\n",
    "Setup: https://swcarpentry.github.io/python-novice-inflammation/instructor/index.html#setup\n",
    "\n",
    "Instruction: https://swcarpentry.github.io/python-novice-inflammation/instructor/02-numpy.html\n",
    "\n",
    "Objectives:\n",
    "* Explain what a library is and what libraries are used for.\n",
    "* Import a Python library and use the functions it contains.\n",
    "* Read tabular data from a file into a program.\n",
    "* Select individual values and subsections from data.\n",
    "* Perform operations on arrays of data.\n"
   ]
  },
  {
   "cell_type": "code",
   "execution_count": null,
   "id": "53d00fba",
   "metadata": {},
   "outputs": [],
   "source": [
    "# Begin by loading in a library called NumPy. \n",
    "# This library allows you to do fancy things with lots of numbers, especially if you have matrices or arrays.\n",
    "# To start using NumPy, we need to import it:\n",
    "import numpy"
   ]
  },
  {
   "cell_type": "markdown",
   "id": "ad917e5b",
   "metadata": {},
   "source": [
    "Importing a library is like getting a piece of lab equipment out of a storage locker and setting it up on the bench. \n",
    "\n",
    "Libraries provide additional functionality to the basic Python package, much like a new piece of equipment adds functionality to a lab space. \n",
    "\n",
    "Just like in the lab, importing too many libraries can sometimes complicate and slow down your programs - so we only import what we need for each program."
   ]
  },
  {
   "cell_type": "code",
   "execution_count": null,
   "id": "e2b1e6ed",
   "metadata": {},
   "outputs": [],
   "source": [
    "# Once we’ve imported the library, we can ask the library to read in our data file for us:\n",
    "numpy.loadtxt(fname='data/inflammation-01.csv', delimiter=',')"
   ]
  },
  {
   "cell_type": "markdown",
   "id": "947afc7b",
   "metadata": {},
   "source": [
    "Note: 'loadtxt' is a 'method', it's just like a function but associated with an object or library and is accessed using the dot notation (e.g numpy.loadtxt).\n",
    "numpy.loadtxt is passed two parameters: \n",
    "* the name of the file we want to read \n",
    "* and the delimiter that separates values on a line. \n",
    "These both need to be character strings (or 'strings' for short), so we put them in quotes.\n",
    "\n",
    "We are using 'named' arguments to pass the values (e.g fname=..., delimiter=...) which will work regardless of the order they are in.\n",
    "The name of the arguments does not need quotes as it's a recognized variable within the method.\n",
    "There are many more values you can pass, see: https://numpy.org/doc/stable/reference/generated/numpy.loadtxt.html"
   ]
  },
  {
   "cell_type": "code",
   "execution_count": null,
   "id": "ab00d077",
   "metadata": {},
   "outputs": [],
   "source": [
    "# To do anything with the data we need to assign it to a variable\n",
    "data = numpy.loadtxt(fname='data/inflammation-01.csv', delimiter=',')"
   ]
  },
  {
   "cell_type": "code",
   "execution_count": null,
   "id": "c8f4c460",
   "metadata": {},
   "outputs": [],
   "source": [
    "# Start by looking at the data type\n",
    "print(type(data))"
   ]
  },
  {
   "cell_type": "code",
   "execution_count": null,
   "id": "d273217b",
   "metadata": {},
   "outputs": [],
   "source": [
    "# To see the type of data in the array use the '.dtype' property\n",
    "print(data.dtype)"
   ]
  },
  {
   "cell_type": "code",
   "execution_count": null,
   "id": "641f8478",
   "metadata": {},
   "outputs": [],
   "source": [
    "# To see the shape of the data use the '.shape' property\n",
    "print(data.shape)\n",
    "\n",
    "#Note: The output is in rows, columns format"
   ]
  },
  {
   "cell_type": "code",
   "execution_count": null,
   "id": "4e2aed9f",
   "metadata": {},
   "outputs": [],
   "source": [
    "# To access a single number from the matrix use square brackets after the variable name\n",
    "print('first value in data:', data[0][0])\n",
    "\n",
    "# You can also use separate indexes with a comma\n",
    "print('first value in data:', data[0, 0])\n",
    "\n",
    "print('middle value in data:', data[29, 19])\n",
    "\n",
    "#Note: indexes start from the upper left"
   ]
  },
  {
   "cell_type": "markdown",
   "id": "f27145f1",
   "metadata": {},
   "source": [
    "## Slicing data"
   ]
  },
  {
   "cell_type": "code",
   "execution_count": null,
   "id": "5665f80e",
   "metadata": {},
   "outputs": [],
   "source": [
    "# Select the first four patients (rows) and first ten days (columns) of values like this:\n",
    "print(data[0:4, 0:10])\n",
    "\n",
    "# slice 0:4 means, “Start at index 0 and go up to, but not including, index 4”."
   ]
  },
  {
   "cell_type": "code",
   "execution_count": null,
   "id": "4e46a302",
   "metadata": {},
   "outputs": [],
   "source": [
    "# You don’t have to include the upper and lower bounds in the slice \n",
    "# if you want to start at the begining and go to the end\n",
    "small = data[:3, 36:]\n",
    "print('small is:')\n",
    "print(small)"
   ]
  },
  {
   "cell_type": "markdown",
   "id": "081f5e70",
   "metadata": {},
   "source": [
    "## Analyzing data"
   ]
  },
  {
   "cell_type": "code",
   "execution_count": null,
   "id": "1dcffdd5",
   "metadata": {},
   "outputs": [],
   "source": [
    "# We can ask NumPy to compute values using it's many methods\n",
    "\n",
    "# E.g compute data’s mean value\n",
    "print(numpy.mean(data))"
   ]
  },
  {
   "cell_type": "code",
   "execution_count": null,
   "id": "29fc7e0e",
   "metadata": {},
   "outputs": [],
   "source": [
    "# Three other NumPy functions to get some descriptive values about the dataset\n",
    "maxval, minval, stdval = numpy.amax(data), numpy.amin(data), numpy.std(data)\n",
    "\n",
    "print('maximum inflammation:', maxval)\n",
    "print('minimum inflammation:', minval)\n",
    "print('standard deviation:', stdval)"
   ]
  },
  {
   "cell_type": "code",
   "execution_count": null,
   "id": "fedc8a23",
   "metadata": {},
   "outputs": [],
   "source": [
    "# A new temporary array to find a patient's maximum inflammation\n",
    "patient_0 = data[0, :] # 0 on the first axis (rows), everything on the second (columns)\n",
    "print('maximum inflammation for patient 0:', numpy.amax(patient_0))"
   ]
  },
  {
   "cell_type": "code",
   "execution_count": null,
   "id": "7ec1252b",
   "metadata": {},
   "outputs": [],
   "source": [
    "#  A patient's maximum inflammation without storing a new variable\n",
    "print('maximum inflammation for patient 2:', numpy.amax(data[2, :]))"
   ]
  },
  {
   "cell_type": "code",
   "execution_count": null,
   "id": "5f358be8",
   "metadata": {},
   "outputs": [],
   "source": [
    "#  The maximum inflammation for all patients\n",
    "print(numpy.amax(data, axis=1))\n",
    "\n",
    "# Note: We need to specify the axis. Axis 0 is down and axis of 1 is across "
   ]
  },
  {
   "cell_type": "code",
   "execution_count": null,
   "id": "6d605b17",
   "metadata": {},
   "outputs": [],
   "source": [
    "# we can also check the shape\n",
    "print(numpy.amax(data, axis=1).shape)"
   ]
  },
  {
   "cell_type": "code",
   "execution_count": null,
   "id": "0c61957e",
   "metadata": {},
   "outputs": [],
   "source": [
    "# Exercise Slicing Strings \n",
    "element = 'oxygen'\n",
    "print('first three characters:', element[0:3])\n",
    "print('last three characters:', element[3:6])\n",
    "\n",
    "# Without executing, what's the value of:\n",
    "# element[:4]? \n",
    "# element[4:]? \n",
    "# and element[:]?\n",
    "\n",
    "# What about:\n",
    "# element[-1]? \n",
    "# and element[-2]?\n",
    "\n",
    "# what about:\n",
    "# element[1:-1]?\n",
    "\n",
    "# How would you get the last 3 characters of the string?"
   ]
  },
  {
   "cell_type": "code",
   "execution_count": null,
   "id": "dec8c637",
   "metadata": {},
   "outputs": [],
   "source": [
    "# numpy.diff() takes an array and returns the differences between two successive values\n",
    "patient3_week1 = data[3, :7]\n",
    "print(patient3_week1)\n",
    "numpy.diff(patient3_week1)"
   ]
  },
  {
   "cell_type": "code",
   "execution_count": null,
   "id": "56fc4bc4",
   "metadata": {},
   "outputs": [],
   "source": [
    "# Exercise - How would you find the largest change in inflammation for each patient?\n",
    "# Does it matter if the change in inflammation is an increase or a decrease?\n",
    "\n",
    "\n",
    "# Bonus - Add the .absolute method to control for negatives \n"
   ]
  }
 ],
 "metadata": {
  "kernelspec": {
   "display_name": "Python 3 (ipykernel)",
   "language": "python",
   "name": "python3"
  },
  "language_info": {
   "codemirror_mode": {
    "name": "ipython",
    "version": 3
   },
   "file_extension": ".py",
   "mimetype": "text/x-python",
   "name": "python",
   "nbconvert_exporter": "python",
   "pygments_lexer": "ipython3",
   "version": "3.11.5"
  }
 },
 "nbformat": 4,
 "nbformat_minor": 5
}
